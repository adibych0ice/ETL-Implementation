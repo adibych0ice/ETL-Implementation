{
 "cells": [
  {
   "cell_type": "code",
   "execution_count": null,
   "metadata": {},
   "outputs": [],
   "source": [
    "class Trial():\n",
    "       \n",
    "    #Class object attribute\n",
    "    #Same for any instance of the class\n",
    "#Default\n",
    "    sound = 'Silent';\n",
    "    color= 'Brown';\n",
    "    size='Small';\n",
    "    habitat = 'Temperate'\n",
    "    def __init__(self,sound,color,size,habitat):\n",
    "        self.sound=sound;\n",
    "        self.color=color;\n",
    "        self.size=size;\n",
    "        self.habitat = habitat;\n",
    "        \n",
    "\n",
    "    def check_sound(self,number):\n",
    "        \n",
    "        tweet = 'tweet \\n';\n",
    "        if self.sound == 'Loud':         \n",
    "            \n",
    "            return \"The Bird is loud\" + tweet * number\n",
    "        else:\n",
    "            return \"The Bird is not Loud\" + tweet * number\n",
    "        \n",
    "    def characteristics(self):\n",
    "        if self.color=='Colorful':\n",
    "            return 'Paradise bird'\n",
    "        else:\n",
    "            return 'Normal bird'\n"
   ]
  },
  {
   "cell_type": "code",
   "execution_count": null,
   "metadata": {},
   "outputs": [],
   "source": [
    "new = Trial(sound='Silent',color='Red',habitat='Tropical',size='Gigantic')"
   ]
  },
  {
   "cell_type": "code",
   "execution_count": null,
   "metadata": {},
   "outputs": [],
   "source": [
    "new.check_sound(number=10)"
   ]
  },
  {
   "cell_type": "code",
   "execution_count": null,
   "metadata": {},
   "outputs": [],
   "source": [
    "class circumeference():\n",
    "    def __init__(self, radius=3.14):\n",
    "        self.radius = radius\n",
    "    \n",
    "    def circum(self):\n",
    "        return 3.14 * self.radius ** 2"
   ]
  },
  {
   "cell_type": "code",
   "execution_count": null,
   "metadata": {},
   "outputs": [],
   "source": [
    "new1 = circumeference(radius = 3.99)"
   ]
  },
  {
   "cell_type": "code",
   "execution_count": null,
   "metadata": {},
   "outputs": [],
   "source": [
    "import math\n",
    "\n",
    "\n",
    "math.pi"
   ]
  },
  {
   "cell_type": "code",
   "execution_count": null,
   "metadata": {},
   "outputs": [],
   "source": []
  },
  {
   "cell_type": "code",
   "execution_count": null,
   "metadata": {},
   "outputs": [],
   "source": [
    "class SocialMedia():\n",
    "    \n",
    "    def __init__(self):\n",
    "        print('The base concept of Social Media')\n",
    "    def new(self,preference):\n",
    "        print('This is my {} preference'.format(preference))"
   ]
  },
  {
   "cell_type": "code",
   "execution_count": null,
   "metadata": {},
   "outputs": [],
   "source": [
    "class Procrastination(SocialMedia):\n",
    "    #The social media class inside the Procrastination class means that procrastination 'inherits' the SocialMedia class\n",
    "    #and all the attributes and methods of SocialMedia can be used inside Procrastination\n",
    "    def __init__(self):\n",
    "        print('Social Media causes procrastination')\n",
    "    def specific(self,socialmedia):\n",
    "        return print('{ } this is a source of procrastination'.format(socialmedia))\n",
    "    def new(self,newsocialmedia):\n",
    "        return print('{ } this is a new preferred form of procrastination'.format(newsocialmedia))"
   ]
  },
  {
   "cell_type": "code",
   "execution_count": null,
   "metadata": {},
   "outputs": [],
   "source": [
    "test = Procrastination()\n",
    "test.new('Jeyt')"
   ]
  },
  {
   "cell_type": "code",
   "execution_count": 46,
   "metadata": {},
   "outputs": [
    {
     "data": {
      "text/plain": [
       "'123456'"
      ]
     },
     "execution_count": 46,
     "metadata": {},
     "output_type": "execute_result"
    }
   ],
   "source": [
    "a = '111222333444555666'\n",
    "a[::3]"
   ]
  }
 ],
 "metadata": {
  "kernelspec": {
   "display_name": "Python 3",
   "language": "python",
   "name": "python3"
  },
  "language_info": {
   "codemirror_mode": {
    "name": "ipython",
    "version": 3
   },
   "file_extension": ".py",
   "mimetype": "text/x-python",
   "name": "python",
   "nbconvert_exporter": "python",
   "pygments_lexer": "ipython3",
   "version": "3.8.5"
  }
 },
 "nbformat": 4,
 "nbformat_minor": 4
}
