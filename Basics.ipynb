{
 "cells": [
  {
   "cell_type": "markdown",
   "metadata": {},
   "source": [
    "Just Completing the First basic structure of Python from the Python Bootcamp"
   ]
  },
  {
   "cell_type": "code",
   "execution_count": 32,
   "metadata": {},
   "outputs": [],
   "source": [
    "def usinput():\n",
    "    #choice = input('Eneter a number betwee 0 and 10');\n",
    "    #Validatiopn\n",
    "    \n",
    "    check = True;\n",
    "    while check:\n",
    "        choice = input('Enter either X or 0 '); \n",
    "        if choice== 'X' or choice == '0':\n",
    "        #or if choice.isdigit() and int(choice) in [0,11]\n",
    "            print(\"Correct option!!\");\n",
    "            return choice\n",
    "        else:\n",
    "            print(\"This is not the correct input, Please try again\")\n",
    "            #check = False;"
   ]
  },
  {
   "cell_type": "code",
   "execution_count": 33,
   "metadata": {},
   "outputs": [
    {
     "name": "stdout",
     "output_type": "stream",
     "text": [
      "Enter either X or 0 3\n",
      "This is not the correct input, Please try again\n",
      "Enter either X or 0 4\n",
      "This is not the correct input, Please try again\n",
      "Enter either X or 0 X\n",
      "Correct option!!\n"
     ]
    },
    {
     "data": {
      "text/plain": [
       "'X'"
      ]
     },
     "execution_count": 33,
     "metadata": {},
     "output_type": "execute_result"
    }
   ],
   "source": [
    "usinput()"
   ]
  },
  {
   "cell_type": "code",
   "execution_count": 9,
   "metadata": {},
   "outputs": [
    {
     "name": "stdout",
     "output_type": "stream",
     "text": [
      "Good Choice !\n"
     ]
    }
   ],
   "source": [
    "choice = '0'\n",
    "check = True\n",
    "while check:\n",
    "    if choice == 'X' or choice == '0':\n",
    "        print(\"Good Choice !\")\n",
    "        break\n",
    "    else:\n",
    "        print(\"Wrong Choice! Choose between X and 0\")\n",
    "        check = False;"
   ]
  },
  {
   "cell_type": "code",
   "execution_count": 29,
   "metadata": {},
   "outputs": [],
   "source": [
    "def threelists():\n",
    "    lis1 = [' ',' ',' '];\n",
    "    lis2 = [' ',' ',' '];\n",
    "    lis3 = [' ',' ',' '];\n",
    "    print(lis1)\n",
    "    print(lis2)\n",
    "    print(lis3)\n",
    "    \n",
    "    indchoice = pickloc();\n",
    "    choice = usinput();"
   ]
  },
  {
   "cell_type": "code",
   "execution_count": 30,
   "metadata": {},
   "outputs": [
    {
     "name": "stdout",
     "output_type": "stream",
     "text": [
      "[' ', ' ', ' ']\n",
      "[' ', ' ', ' ']\n",
      "[' ', ' ', ' ']\n",
      "Enter a number betwee 0 and 10: 12\n",
      "This is not the correct input, Please try again\n",
      "Enter a number betwee 0 and 10: 3\n",
      "Correct option!!\n"
     ]
    }
   ],
   "source": [
    "threelists()"
   ]
  },
  {
   "cell_type": "code",
   "execution_count": 1,
   "metadata": {},
   "outputs": [],
   "source": [
    "def pickloc():\n",
    "    check = True;\n",
    "    while check:\n",
    "        choice = int(input(\"Choose a number between 0 and 9 where X or 0 will be put: \"));\n",
    "        if choice >= 0 and choice <= 9:\n",
    "            print(\"Correct method!\")\n",
    "            return choice\n",
    "        else:\n",
    "            print(\"Wrong option!!\")\n",
    "            continue;"
   ]
  },
  {
   "cell_type": "code",
   "execution_count": 2,
   "metadata": {},
   "outputs": [
    {
     "name": "stdout",
     "output_type": "stream",
     "text": [
      "Choose a number between 0 and 9 where X or 0 will be put: 3\n",
      "Correct method!\n"
     ]
    },
    {
     "data": {
      "text/plain": [
       "3"
      ]
     },
     "execution_count": 2,
     "metadata": {},
     "output_type": "execute_result"
    }
   ],
   "source": [
    "pickloc()"
   ]
  },
  {
   "cell_type": "code",
   "execution_count": null,
   "metadata": {},
   "outputs": [],
   "source": []
  },
  {
   "cell_type": "code",
   "execution_count": null,
   "metadata": {},
   "outputs": [],
   "source": []
  },
  {
   "cell_type": "code",
   "execution_count": null,
   "metadata": {},
   "outputs": [],
   "source": []
  },
  {
   "cell_type": "code",
   "execution_count": null,
   "metadata": {},
   "outputs": [],
   "source": []
  },
  {
   "cell_type": "code",
   "execution_count": 2,
   "metadata": {},
   "outputs": [
    {
     "name": "stdout",
     "output_type": "stream",
     "text": [
      "['Static', 'Dynamic']\n"
     ]
    }
   ],
   "source": [
    "var1 = [\"Static\",\"Dynamic\"]\n",
    "print(var1)"
   ]
  },
  {
   "cell_type": "code",
   "execution_count": 3,
   "metadata": {},
   "outputs": [
    {
     "data": {
      "text/plain": [
       "\"'Sting'\""
      ]
     },
     "execution_count": 3,
     "metadata": {},
     "output_type": "execute_result"
    }
   ],
   "source": [
    "\"'Sting'\""
   ]
  },
  {
   "cell_type": "code",
   "execution_count": 4,
   "metadata": {},
   "outputs": [
    {
     "data": {
      "text/plain": [
       "[\"'Sting'\"]"
      ]
     },
     "execution_count": 4,
     "metadata": {},
     "output_type": "execute_result"
    }
   ],
   "source": [
    "[\"'Sting'\"]"
   ]
  },
  {
   "cell_type": "code",
   "execution_count": 9,
   "metadata": {},
   "outputs": [
    {
     "data": {
      "text/plain": [
       "str"
      ]
     },
     "execution_count": 9,
     "metadata": {},
     "output_type": "execute_result"
    }
   ],
   "source": [
    "ab = '\"sting\"'\n",
    "type(ab)"
   ]
  },
  {
   "cell_type": "code",
   "execution_count": null,
   "metadata": {},
   "outputs": [],
   "source": []
  },
  {
   "cell_type": "code",
   "execution_count": null,
   "metadata": {},
   "outputs": [],
   "source": []
  },
  {
   "cell_type": "code",
   "execution_count": 46,
   "metadata": {},
   "outputs": [
    {
     "name": "stdout",
     "output_type": "stream",
     "text": [
      "jkkCkjXBVJB\n",
      "jkkCkjXBVJB\n",
      "\n",
      "jkkCkjXBVJB\tjkkCkjXBVJB\n",
      "1\t5\n",
      "kjSjCIKz\n",
      "VBJVBXjkCkkj\n"
     ]
    }
   ],
   "source": [
    "ab=[\"kjbuakjblkNDSCLBIkjbkjZBCX;IQBIJFVBLKJBKJBzXCV\"]\n",
    "\n",
    "print(ab[0][1:-1:4] +\"\\n\"+ ab[0][1:-2:4]) \n",
    "print()\n",
    "print(ab[0][1:-1:4] +\"\\t\"+ ab[0][1:-2:4])\n",
    "\n",
    "print(str(ab[0].index('j')) + \"\\t\"+str(ab[0].count('k')))\n",
    "\n",
    "#We have checked the splicing and indexing with multiple permutations and combinations\n",
    "\n",
    "print(ab[0][0:-3:6])\n",
    "#Even more checking\n",
    "print(ab[0][::-4])"
   ]
  },
  {
   "cell_type": "code",
   "execution_count": 56,
   "metadata": {},
   "outputs": [
    {
     "name": "stdout",
     "output_type": "stream",
     "text": [
      "Farter\n",
      "Goodbye\tWorld\n"
     ]
    }
   ],
   "source": [
    "ad = 'Peter'\n",
    "print(str('Far')+ad[2:])\n",
    "#This is an example of the concatenation concept and replace one part f a string , that is immutable\n",
    "#with another string\n",
    "\n",
    "print(\"Goodbye\" +\"\\t\"+ \"Hello World\"[6:])\n"
   ]
  },
  {
   "cell_type": "code",
   "execution_count": 57,
   "metadata": {},
   "outputs": [
    {
     "name": "stdout",
     "output_type": "stream",
     "text": [
      "llollollollollollollollollollollollollollollollollollollollollollollollollollollollollollollollollollollollollollollollollollollollollollollollollollollollollollollollollollollollollollollollollollollollollollollollollollollollollollollollollollollollollollollollollollollollollollollollollollollollo\n"
     ]
    }
   ],
   "source": [
    "#Multiple string concatenation\n",
    "\n",
    "print('Hello world'[2:5] * 100)#Same string slice is repeated 100 times"
   ]
  },
  {
   "cell_type": "code",
   "execution_count": 71,
   "metadata": {},
   "outputs": [
    {
     "data": {
      "text/plain": [
       "('9034', '\\t', '!= \\t124')"
      ]
     },
     "execution_count": 71,
     "metadata": {},
     "output_type": "execute_result"
    }
   ],
   "source": [
    "ac = str(int('90'+'34')) + \"\\t!= \\t\" + str(124)\n",
    "\n",
    "ac.partition(\"\\t\")\n",
    "#str.partition() takes a string that will split the string into three parts before the argument string\n",
    "#And atfter the ARgument string\n",
    "\n",
    "#If there are multiple instances of the argument in the string, only the first instance is considered."
   ]
  },
  {
   "cell_type": "code",
   "execution_count": 72,
   "metadata": {},
   "outputs": [
    {
     "data": {
      "text/plain": [
       "['9034', '!= ', '124']"
      ]
     },
     "execution_count": 72,
     "metadata": {},
     "output_type": "execute_result"
    }
   ],
   "source": [
    "ac.split('\\t')\n",
    "#This is an even better way to partition the string. Splits the string at every instance of the mentioned \n"
   ]
  },
  {
   "cell_type": "code",
   "execution_count": 76,
   "metadata": {},
   "outputs": [
    {
     "name": "stdout",
     "output_type": "stream",
     "text": [
      " I am tyring to print 445 as This is a number which it is not. So I print 9980.888 \t This is a number\n",
      "\n",
      "Whereas using indexing we have 9980.888 as This is a number\n",
      "This is a number99888 whereas this is a stringThis is a number\n"
     ]
    }
   ],
   "source": [
    "#string interpolation\n",
    "\n",
    "ae = '445'\n",
    "df = 'This is a number'\n",
    "jh = 9980.888\n",
    "\n",
    "#The .format() method\n",
    "\n",
    "print(\" I am tyring to print {} as {} which it is not. So I print {} \\t {}\".format(ae,df,jh,df))\n",
    "\n",
    "print()\n",
    "print(\"Whereas using indexing we have {1} as {0}\".format(df,jh))\n",
    "\n",
    "#Or by assigning a variable(local)(for that line of execution only.) to each variable or string inside.\n",
    "\n",
    "print('This is a number{q1} whereas this is a string{fg}'.format(q1=99888,fg=df))"
   ]
  },
  {
   "cell_type": "code",
   "execution_count": 86,
   "metadata": {},
   "outputs": [],
   "source": [
    "\n",
    "\n",
    "ar1 = [990.8,\"Trying\",ae+df,df*12]\n",
    "ar1[3] = \"This is new\"\n",
    "#We just added an object to the list in original list variable\n",
    "\n",
    "#There is concatenate,  slicing and indexing also for lists\n",
    "\n",
    "ar1.append(9088.77)#Appending a value at the end of a list\n",
    "\n"
   ]
  },
  {
   "cell_type": "code",
   "execution_count": 87,
   "metadata": {},
   "outputs": [
    {
     "data": {
      "text/plain": [
       "'445This is a number'"
      ]
     },
     "execution_count": 87,
     "metadata": {},
     "output_type": "execute_result"
    }
   ],
   "source": [
    "ar1.pop(2)"
   ]
  },
  {
   "cell_type": "code",
   "execution_count": 88,
   "metadata": {},
   "outputs": [
    {
     "data": {
      "text/plain": [
       "[990.8, 'Trying', 'This is new', 9088.77]"
      ]
     },
     "execution_count": 88,
     "metadata": {},
     "output_type": "execute_result"
    }
   ],
   "source": [
    "ar1 \n",
    "#pop() removes item from the list"
   ]
  },
  {
   "cell_type": "code",
   "execution_count": null,
   "metadata": {},
   "outputs": [],
   "source": [
    "#I/O File reading and writing"
   ]
  },
  {
   "cell_type": "code",
   "execution_count": 25,
   "metadata": {},
   "outputs": [
    {
     "data": {
      "text/plain": [
       "['First Line\\n', 'Second Line']"
      ]
     },
     "execution_count": 25,
     "metadata": {},
     "output_type": "execute_result"
    }
   ],
   "source": [
    "ttx = open('test.txt')\n",
    "ttx.readlines()"
   ]
  },
  {
   "cell_type": "code",
   "execution_count": 30,
   "metadata": {},
   "outputs": [
    {
     "name": "stdout",
     "output_type": "stream",
     "text": [
      "First Line\n",
      "Second Line\n"
     ]
    }
   ],
   "source": [
    "with open('test.txt') as fl:\n",
    "    print(fl.read())"
   ]
  },
  {
   "cell_type": "code",
   "execution_count": 40,
   "metadata": {},
   "outputs": [],
   "source": [
    "with open('test22.txt',mode='w') as fil:\n",
    "    st1 = 'Overwriting the text file again'\n",
    "    fil.writelines(st1)\n",
    "    fil.close()"
   ]
  },
  {
   "cell_type": "code",
   "execution_count": 42,
   "metadata": {},
   "outputs": [
    {
     "data": {
      "text/plain": [
       "'Overwriting the text file again'"
      ]
     },
     "execution_count": 42,
     "metadata": {},
     "output_type": "execute_result"
    }
   ],
   "source": [
    "test22 = open('test22.txt')\n",
    "test22.read()\n",
    "\n",
    "#In the above two cells we opened, wrote and read  a file"
   ]
  },
  {
   "cell_type": "code",
   "execution_count": 46,
   "metadata": {},
   "outputs": [
    {
     "data": {
      "text/plain": [
       "\"Adding a string to a file that doesn't exit. \""
      ]
     },
     "execution_count": 46,
     "metadata": {},
     "output_type": "execute_result"
    }
   ],
   "source": [
    "with open('writing.txt',mode='w') as wrfil:\n",
    "    st2 = 'Adding a string to a file that doesn\\'t exit. '\n",
    "    wrfil.write(st2)\n",
    "    wrfil.close()\n",
    "    \n",
    "#This is showing how to create a file from the function itself and add stuff to it.\n",
    "#In case of .txt files you can add only strings.\n",
    "#The above method is for string writing only\n",
    "\n",
    "op = open('writing.txt')\n",
    "op.read()"
   ]
  },
  {
   "cell_type": "code",
   "execution_count": 47,
   "metadata": {},
   "outputs": [],
   "source": [
    "import numpy as np"
   ]
  },
  {
   "cell_type": "code",
   "execution_count": 63,
   "metadata": {},
   "outputs": [
    {
     "data": {
      "text/plain": [
       "[0.0,\n",
       " 0.6028424854034853,\n",
       " 0.16222903277445933,\n",
       " 0.8813822317544207,\n",
       " 2.5013025259739607,\n",
       " 0.6196618686367433,\n",
       " 5.0672765365524,\n",
       " 3.832245907735821,\n",
       " 0.7900606714646354,\n",
       " 4.850281808437309]"
      ]
     },
     "execution_count": 63,
     "metadata": {},
     "output_type": "execute_result"
    }
   ],
   "source": [
    "[np.random.random() * x for x in range(0,10)]#This is a VERY BASIC example of list comprehensions"
   ]
  },
  {
   "cell_type": "code",
   "execution_count": null,
   "metadata": {},
   "outputs": [],
   "source": [
    "##This is the logical + Comparison Operators"
   ]
  },
  {
   "cell_type": "code",
   "execution_count": 65,
   "metadata": {},
   "outputs": [
    {
     "data": {
      "text/plain": [
       "True"
      ]
     },
     "execution_count": 65,
     "metadata": {},
     "output_type": "execute_result"
    }
   ],
   "source": [
    "6 == 6 or 'h' != 'h'"
   ]
  },
  {
   "cell_type": "code",
   "execution_count": null,
   "metadata": {},
   "outputs": [],
   "source": []
  },
  {
   "cell_type": "code",
   "execution_count": null,
   "metadata": {},
   "outputs": [],
   "source": [
    "#Control Flow"
   ]
  },
  {
   "cell_type": "code",
   "execution_count": 67,
   "metadata": {},
   "outputs": [
    {
     "name": "stdout",
     "output_type": "stream",
     "text": [
      "2 multiple\n"
     ]
    }
   ],
   "source": [
    "gr = 1024\n",
    "\n",
    "if gr%2 == 0:\n",
    "    print('2 multiple');\n",
    "else:\n",
    "    print('NOT 2 multiple');\n",
    "\n"
   ]
  },
  {
   "cell_type": "code",
   "execution_count": null,
   "metadata": {},
   "outputs": [],
   "source": []
  },
  {
   "cell_type": "code",
   "execution_count": 68,
   "metadata": {},
   "outputs": [],
   "source": [
    "#List Comprehension"
   ]
  },
  {
   "cell_type": "code",
   "execution_count": 76,
   "metadata": {},
   "outputs": [
    {
     "name": "stdout",
     "output_type": "stream",
     "text": [
      "Even\n",
      "0\n",
      "Odd\n",
      "1\n",
      "Even\n",
      "2\n",
      "Odd\n",
      "3\n",
      "Even\n",
      "4\n",
      "Odd\n",
      "5\n",
      "Even\n",
      "6\n",
      "Odd\n",
      "7\n",
      "Even\n",
      "8\n",
      "Odd\n",
      "9\n"
     ]
    }
   ],
   "source": [
    "varlis = []\n",
    "i=0\n",
    "for val in range(0, 10):\n",
    "    if val%2 == 0:\n",
    "        print('Even')\n",
    "    else:\n",
    "        print('Odd')\n",
    "    print(int(val))\n",
    "    ##########\n",
    "    #varlis[i] = val\n",
    "    varlis.append(range)\n",
    "    i+=1\n",
    "    \n",
    "    "
   ]
  },
  {
   "cell_type": "code",
   "execution_count": 84,
   "metadata": {},
   "outputs": [
    {
     "name": "stdout",
     "output_type": "stream",
     "text": [
      "8\n",
      "yuyu\n",
      "12.3\n"
     ]
    }
   ],
   "source": [
    "tuplis = [(8,9),('yuyu','xuxuxu'),(12.3,1/6)]\n",
    "\n",
    "#Tuple unpacking\n",
    "for x,y in tuplis:\n",
    "    print(x)"
   ]
  },
  {
   "cell_type": "code",
   "execution_count": null,
   "metadata": {},
   "outputs": [],
   "source": []
  },
  {
   "cell_type": "code",
   "execution_count": 1,
   "metadata": {},
   "outputs": [],
   "source": [
    "#Operators in Python"
   ]
  },
  {
   "cell_type": "code",
   "execution_count": 6,
   "metadata": {},
   "outputs": [
    {
     "name": "stdout",
     "output_type": "stream",
     "text": [
      "The number 0.0 is even\n",
      "Whatever 1\n",
      "Whatever 2\n",
      "Whatever 2\n",
      "Whatever 2\n",
      "Whatever 2\n"
     ]
    }
   ],
   "source": [
    "#range()\n",
    "import numpy as np\n",
    "for j in range(0,13,2):\n",
    "    randnum = np.random.random();\n",
    "    if (randnum * j) % 2== 0:\n",
    "        print(\"The number {} is even\".format(randnum*j))\n",
    "    elif (randnum ** j) > 3:\n",
    "        print(\"Continuing\");\n",
    "        continue;\n",
    "    for i in range(int(j**0.5),int(j**2)):\n",
    "        if i ** randnum > 2 or i ** 0.5 < -2:\n",
    "            break;\n",
    "        else:\n",
    "            print(\"Whatever\",i)"
   ]
  },
  {
   "cell_type": "code",
   "execution_count": null,
   "metadata": {},
   "outputs": [],
   "source": []
  },
  {
   "cell_type": "code",
   "execution_count": 7,
   "metadata": {},
   "outputs": [],
   "source": [
    "#List Comprehensions\n",
    "com = {'John':'A', 'Emily':'A+', 'Betty':'B', 'Mike':'C', 'Ashley':'A','Collin':'C-','Devon':'B-'}\n"
   ]
  },
  {
   "cell_type": "code",
   "execution_count": 18,
   "metadata": {},
   "outputs": [
    {
     "name": "stdout",
     "output_type": "stream",
     "text": [
      "First ([['John', 'A'], ['Emily', 'A+'], ['Betty', 'B'], ['Mike', 'C'], ['Ashley', 'A'], ['Collin', 'C-'], ['Devon', 'B-']],) and Second [['AA'], ['A+A+'], ['BB'], ['CC'], ['AA'], ['C-C-'], ['B-B-']]\n"
     ]
    }
   ],
   "source": [
    "a1 =[[val,val2]for val,val2 in com.items() ], #Dicitonary Comprehension\n",
    "a2 =[[val*2]for _,val in com.items()]#Another example using only the values\n",
    "print(\"First {} and Second {}\".format(a1,a2))"
   ]
  },
  {
   "cell_type": "code",
   "execution_count": 19,
   "metadata": {},
   "outputs": [
    {
     "data": {
      "text/plain": [
       "{'A': 'AA', 'A+': 'A+A+', 'B': 'BB', 'C': 'CC', 'C-': 'C-C-', 'B-': 'B-B-'}"
      ]
     },
     "execution_count": 19,
     "metadata": {},
     "output_type": "execute_result"
    }
   ],
   "source": [
    "{val:val*2 for val in com.values()}"
   ]
  },
  {
   "cell_type": "code",
   "execution_count": null,
   "metadata": {},
   "outputs": [],
   "source": []
  },
  {
   "cell_type": "code",
   "execution_count": null,
   "metadata": {},
   "outputs": [],
   "source": [
    "#Tuple Unpacking"
   ]
  },
  {
   "cell_type": "code",
   "execution_count": 1,
   "metadata": {},
   "outputs": [],
   "source": [
    "work_hrs = [('Ben',120),('Emily',100),('Charles',159),('Dan','150')]"
   ]
  },
  {
   "cell_type": "code",
   "execution_count": 10,
   "metadata": {},
   "outputs": [],
   "source": [
    "templis = {}\n",
    "for val,val1 in work_hrs:\n",
    "    \n",
    "    "
   ]
  },
  {
   "cell_type": "code",
   "execution_count": null,
   "metadata": {},
   "outputs": [],
   "source": []
  },
  {
   "cell_type": "code",
   "execution_count": 2,
   "metadata": {},
   "outputs": [],
   "source": [
    "import random as rand"
   ]
  },
  {
   "cell_type": "code",
   "execution_count": 6,
   "metadata": {},
   "outputs": [],
   "source": [
    "from random import shuffle"
   ]
  },
  {
   "cell_type": "code",
   "execution_count": 7,
   "metadata": {},
   "outputs": [],
   "source": [
    "txt = 'Anthropomorphism'"
   ]
  },
  {
   "cell_type": "code",
   "execution_count": 20,
   "metadata": {},
   "outputs": [],
   "source": [
    "tstlis = [];\n",
    "for i,j in enumerate(txt):\n",
    "    if i%2 == 0:\n",
    "        tstlis.append(j.upper())\n",
    "    else:\n",
    "        tstlis.append(j);"
   ]
  },
  {
   "cell_type": "code",
   "execution_count": 21,
   "metadata": {},
   "outputs": [
    {
     "data": {
      "text/plain": [
       "'AnThRoPoMoRpHiSm'"
      ]
     },
     "execution_count": 21,
     "metadata": {},
     "output_type": "execute_result"
    }
   ],
   "source": [
    "''.join(tstlis)"
   ]
  }
 ],
 "metadata": {
  "kernelspec": {
   "display_name": "Python 3",
   "language": "python",
   "name": "python3"
  },
  "language_info": {
   "codemirror_mode": {
    "name": "ipython",
    "version": 3
   },
   "file_extension": ".py",
   "mimetype": "text/x-python",
   "name": "python",
   "nbconvert_exporter": "python",
   "pygments_lexer": "ipython3",
   "version": "3.8.5"
  }
 },
 "nbformat": 4,
 "nbformat_minor": 4
}
